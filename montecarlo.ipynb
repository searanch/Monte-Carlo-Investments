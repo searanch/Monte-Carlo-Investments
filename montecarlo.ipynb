{
 "cells": [
  {
   "cell_type": "code",
   "execution_count": 1,
   "id": "e85b464f",
   "metadata": {},
   "outputs": [
    {
     "data": {
      "text/plain": [
       "(7.27, 3.9, 3.37, 32.4, 13.12)"
      ]
     },
     "execution_count": 1,
     "metadata": {},
     "output_type": "execute_result"
    }
   ],
   "source": [
    "a = (7.27,3.9,3.37,32.4,13.12)"
   ]
  },
  {
   "cell_type": "code",
   "execution_count": 398,
   "id": "26d4f5fc",
   "metadata": {},
   "outputs": [],
   "source": [
    "using DataFrames\n",
    "using CSV\n",
    "#using CairoMakie\n",
    "#using Rounding\n",
    "\n",
    "#Example 1 from wikipedia as a first sanity check\n",
    "#Suppose a principal amount of $1,500 is deposited in a bank paying an annual interest rate of 4.3%, compounded quarterly.\n",
    "#Then the balance after 6 years is found by using the formula above, with P = 1500, r = 0.043 (4.3%), n = 4, and t = 6:\n",
    "deterministic_predict(P, r , n, t) = P*(1 + r/n)^(n*t)\n",
    "deterministic_predict(20000.0 , 0.08, 12, 20)\n",
    "\n",
    "age=40 #                                 Age at start of projections\n",
    "frequency = 252 #                        Assume 252 trading days per year\n",
    "days = 1/frequency #                     Convenient way to express days\n",
    "yrs_to_days(x)=x*frequency #             Simple function to convert years to days\n",
    "sigma(rp) = df[rp,:].StdDev/100 #        Simple function to get a risk profile's standard deviation\n",
    "\n",
    "function stocks()\n",
    "    returns = .1\n",
    "    sd = .28\n",
    "    dist = Normal(returns, sd)\n",
    "    x = returns - 3sd : 0.01 : μ + 3σ"
   ]
  },
  {
   "cell_type": "code",
   "execution_count": 89,
   "id": "d7685950",
   "metadata": {},
   "outputs": [
    {
     "data": {
      "text/html": [
       "<div class=\"data-frame\"><p>2 rows × 5 columns</p><table class=\"data-frame\"><thead><tr><th></th><th>variable</th><th>min</th><th>max</th><th>mean</th><th>std</th></tr><tr><th></th><th title=\"Symbol\">Symbol</th><th title=\"Any\">Any</th><th title=\"Any\">Any</th><th title=\"Union{Nothing, Float64}\">Union…</th><th title=\"Union{Nothing, Float64}\">Union…</th></tr></thead><tbody><tr><th>1</th><td>date</td><td>12/29/1961</td><td>9/2/2022</td><td></td><td></td></tr><tr><th>2</th><td> value</td><td>-47.07</td><td>46.59</td><td>7.71042</td><td>19.1513</td></tr></tbody></table></div>"
      ],
      "text/latex": [
       "\\begin{tabular}{r|ccccc}\n",
       "\t& variable & min & max & mean & std\\\\\n",
       "\t\\hline\n",
       "\t& Symbol & Any & Any & Union… & Union…\\\\\n",
       "\t\\hline\n",
       "\t1 & date & 12/29/1961 & 9/2/2022 &  &  \\\\\n",
       "\t2 &  value & -47.07 & 46.59 & 7.71042 & 19.1513 \\\\\n",
       "\\end{tabular}\n"
      ],
      "text/plain": [
       "\u001b[1m2×5 DataFrame\u001b[0m\n",
       "\u001b[1m Row \u001b[0m│\u001b[1m variable \u001b[0m\u001b[1m min        \u001b[0m\u001b[1m max      \u001b[0m\u001b[1m mean    \u001b[0m\u001b[1m std     \u001b[0m\n",
       "\u001b[1m     \u001b[0m│\u001b[90m Symbol   \u001b[0m\u001b[90m Any        \u001b[0m\u001b[90m Any      \u001b[0m\u001b[90m Union…  \u001b[0m\u001b[90m Union…  \u001b[0m\n",
       "─────┼──────────────────────────────────────────────────\n",
       "   1 │ date      12/29/1961  9/2/2022 \u001b[90m         \u001b[0m\u001b[90m         \u001b[0m\n",
       "   2 │  value    -47.07      46.59     7.71042  19.1513"
      ]
     },
     "execution_count": 89,
     "metadata": {},
     "output_type": "execute_result"
    }
   ],
   "source": [
    "sp = CSV.read(\"sp500returns.csv\", DataFrame)\n",
    "describe(sp, :min, :max, :mean, :std)\n",
    "#fig = scatterlines(df, ::values)"
   ]
  },
  {
   "cell_type": "code",
   "execution_count": 91,
   "id": "6db60164",
   "metadata": {},
   "outputs": [
    {
     "data": {
      "text/html": [
       "<div class=\"data-frame\"><p>2 rows × 5 columns</p><table class=\"data-frame\"><thead><tr><th></th><th>variable</th><th>min</th><th>max</th><th>mean</th><th>std</th></tr><tr><th></th><th title=\"Symbol\">Symbol</th><th title=\"Real\">Real</th><th title=\"Real\">Real</th><th title=\"Float64\">Float64</th><th title=\"Float64\">Float64</th></tr></thead><tbody><tr><th>1</th><td>Year</td><td>1928</td><td>2022</td><td>1975.0</td><td>27.5681</td></tr><tr><th>2</th><td>Return</td><td>-52.67</td><td>66.69</td><td>7.31495</td><td>19.2952</td></tr></tbody></table></div>"
      ],
      "text/latex": [
       "\\begin{tabular}{r|ccccc}\n",
       "\t& variable & min & max & mean & std\\\\\n",
       "\t\\hline\n",
       "\t& Symbol & Real & Real & Float64 & Float64\\\\\n",
       "\t\\hline\n",
       "\t1 & Year & 1928 & 2022 & 1975.0 & 27.5681 \\\\\n",
       "\t2 & Return & -52.67 & 66.69 & 7.31495 & 19.2952 \\\\\n",
       "\\end{tabular}\n"
      ],
      "text/plain": [
       "\u001b[1m2×5 DataFrame\u001b[0m\n",
       "\u001b[1m Row \u001b[0m│\u001b[1m variable \u001b[0m\u001b[1m min     \u001b[0m\u001b[1m max     \u001b[0m\u001b[1m mean       \u001b[0m\u001b[1m std     \u001b[0m\n",
       "\u001b[1m     \u001b[0m│\u001b[90m Symbol   \u001b[0m\u001b[90m Real    \u001b[0m\u001b[90m Real    \u001b[0m\u001b[90m Float64    \u001b[0m\u001b[90m Float64 \u001b[0m\n",
       "─────┼─────────────────────────────────────────────────\n",
       "   1 │ Year      1928     2022     1975.0      27.5681\n",
       "   2 │ Return     -52.67    66.69     7.31495  19.2952"
      ]
     },
     "execution_count": 91,
     "metadata": {},
     "output_type": "execute_result"
    }
   ],
   "source": [
    "dow = CSV.read(\"dow.csv\", DataFrame)\n",
    "describe(dow, :min, :max, :mean, :std)"
   ]
  },
  {
   "cell_type": "code",
   "execution_count": 93,
   "id": "a0391086",
   "metadata": {},
   "outputs": [
    {
     "data": {
      "text/html": [
       "<div class=\"data-frame\"><p>2 rows × 5 columns</p><table class=\"data-frame\"><thead><tr><th></th><th>variable</th><th>min</th><th>max</th><th>mean</th><th>std</th></tr><tr><th></th><th title=\"Symbol\">Symbol</th><th title=\"Any\">Any</th><th title=\"Any\">Any</th><th title=\"Union{Nothing, Float64}\">Union…</th><th title=\"Union{Nothing, Float64}\">Union…</th></tr></thead><tbody><tr><th>1</th><td>date</td><td>12/29/1972</td><td>9/1/2022</td><td></td><td></td></tr><tr><th>2</th><td> value</td><td>-40.54</td><td>85.59</td><td>12.6078</td><td>25.5995</td></tr></tbody></table></div>"
      ],
      "text/latex": [
       "\\begin{tabular}{r|ccccc}\n",
       "\t& variable & min & max & mean & std\\\\\n",
       "\t\\hline\n",
       "\t& Symbol & Any & Any & Union… & Union…\\\\\n",
       "\t\\hline\n",
       "\t1 & date & 12/29/1972 & 9/1/2022 &  &  \\\\\n",
       "\t2 &  value & -40.54 & 85.59 & 12.6078 & 25.5995 \\\\\n",
       "\\end{tabular}\n"
      ],
      "text/plain": [
       "\u001b[1m2×5 DataFrame\u001b[0m\n",
       "\u001b[1m Row \u001b[0m│\u001b[1m variable \u001b[0m\u001b[1m min        \u001b[0m\u001b[1m max      \u001b[0m\u001b[1m mean    \u001b[0m\u001b[1m std     \u001b[0m\n",
       "\u001b[1m     \u001b[0m│\u001b[90m Symbol   \u001b[0m\u001b[90m Any        \u001b[0m\u001b[90m Any      \u001b[0m\u001b[90m Union…  \u001b[0m\u001b[90m Union…  \u001b[0m\n",
       "─────┼──────────────────────────────────────────────────\n",
       "   1 │ date      12/29/1972  9/1/2022 \u001b[90m         \u001b[0m\u001b[90m         \u001b[0m\n",
       "   2 │  value    -40.54      85.59     12.6078  25.5995"
      ]
     },
     "execution_count": 93,
     "metadata": {},
     "output_type": "execute_result"
    }
   ],
   "source": [
    "nasd = CSV.read(\"nasd.csv\", DataFrame)\n",
    "describe(nasd, :min, :max, :mean, :std)"
   ]
  },
  {
   "cell_type": "code",
   "execution_count": 423,
   "id": "3a346f8c",
   "metadata": {},
   "outputs": [
    {
     "data": {
      "text/plain": [
       "3-element Vector{Int64}:\n",
       "  600\n",
       "  700\n",
       " 3500"
      ]
     },
     "execution_count": 423,
     "metadata": {},
     "output_type": "execute_result"
    }
   ],
   "source": [
    "function add_one!(V)\n",
    "    for i in 1:length(V)\n",
    "        V[i] += 100 * 5\n",
    "    end\n",
    "end\n",
    "\n",
    "my_data = [100, 200, 3000]\n",
    "\n",
    "add_one!(my_data)\n",
    "\n",
    "my_data\n"
   ]
  },
  {
   "cell_type": "code",
   "execution_count": 406,
   "id": "a6503e22",
   "metadata": {},
   "outputs": [
    {
     "data": {
      "text/plain": [
       "10-element Vector{Float64}:\n",
       "  0.1698639668243915\n",
       "  0.03882858096720051\n",
       "  0.1375034832130477\n",
       "  0.15246923949910418\n",
       "  0.11948087361687423\n",
       "  0.4479510562148206\n",
       "  0.1680510811710028\n",
       "  0.1857957690402415\n",
       " -0.00939805917348796\n",
       " -0.13233454638784314"
      ]
     },
     "execution_count": 406,
     "metadata": {},
     "output_type": "execute_result"
    }
   ],
   "source": [
    "sp_random = rand(Truncated(Normal(.077, .19), -.47, .46), 10)\n",
    "#typeof(x)\n"
   ]
  },
  {
   "cell_type": "code",
   "execution_count": 400,
   "id": "37f78f59",
   "metadata": {},
   "outputs": [
    {
     "name": "stdout",
     "output_type": "stream",
     "text": [
      "13851.0\n",
      "8542.0\n",
      "9325.0\n",
      "12978.0\n",
      "11977.0\n",
      "10847.0\n",
      "10486.0\n",
      "10506.0\n",
      "11292.0\n",
      "10161.0\n"
     ]
    }
   ],
   "source": [
    "for i in sp_random\n",
    "   a = (round(i * 10000) + 10000)\n",
    "    #s = Int64[]\n",
    "    \n",
    "    println(a)\n",
    "    #push!([10000],i)\n",
    "    #push!([1, 2, 3], i)\n",
    "end"
   ]
  },
  {
   "cell_type": "code",
   "execution_count": 94,
   "id": "cf46ba73",
   "metadata": {},
   "outputs": [
    {
     "ename": "LoadError",
     "evalue": "UndefVarError: y1 not defined",
     "output_type": "error",
     "traceback": [
      "UndefVarError: y1 not defined",
      "",
      "Stacktrace:",
      " [1] top-level scope",
      "   @ .\\In[94]:2",
      " [2] eval",
      "   @ .\\boot.jl:373 [inlined]",
      " [3] include_string(mapexpr::typeof(REPL.softscope), mod::Module, code::String, filename::String)",
      "   @ Base .\\loading.jl:1196"
     ]
    }
   ],
   "source": [
    "#y1 = 10000 \n",
    "for i in \n",
    "    i * x\n",
    "end"
   ]
  },
  {
   "cell_type": "code",
   "execution_count": 165,
   "id": "7b5eb34d",
   "metadata": {},
   "outputs": [
    {
     "ename": "LoadError",
     "evalue": "MethodError: no method matching push!(::Float64, ::Int64)\n\u001b[0mClosest candidates are:\n\u001b[0m  push!(::Any, ::Any, \u001b[91m::Any\u001b[39m) at C:\\Users\\lizba\\AppData\\Local\\Programs\\Julia-1.7.2\\share\\julia\\base\\abstractarray.jl:2952\n\u001b[0m  push!(::Any, ::Any, \u001b[91m::Any\u001b[39m, \u001b[91m::Any...\u001b[39m) at C:\\Users\\lizba\\AppData\\Local\\Programs\\Julia-1.7.2\\share\\julia\\base\\abstractarray.jl:2953\n\u001b[0m  push!(\u001b[91m::OffsetArrays.OffsetVector{T} where T\u001b[39m, ::Any...) at C:\\Users\\lizba\\.julia\\packages\\OffsetArrays\\80Lkc\\src\\OffsetArrays.jl:602\n\u001b[0m  ...",
     "output_type": "error",
     "traceback": [
      "MethodError: no method matching push!(::Float64, ::Int64)\n\u001b[0mClosest candidates are:\n\u001b[0m  push!(::Any, ::Any, \u001b[91m::Any\u001b[39m) at C:\\Users\\lizba\\AppData\\Local\\Programs\\Julia-1.7.2\\share\\julia\\base\\abstractarray.jl:2952\n\u001b[0m  push!(::Any, ::Any, \u001b[91m::Any\u001b[39m, \u001b[91m::Any...\u001b[39m) at C:\\Users\\lizba\\AppData\\Local\\Programs\\Julia-1.7.2\\share\\julia\\base\\abstractarray.jl:2953\n\u001b[0m  push!(\u001b[91m::OffsetArrays.OffsetVector{T} where T\u001b[39m, ::Any...) at C:\\Users\\lizba\\.julia\\packages\\OffsetArrays\\80Lkc\\src\\OffsetArrays.jl:602\n\u001b[0m  ...",
      "",
      "Stacktrace:",
      " [1] top-level scope",
      "   @ .\\In[165]:10",
      " [2] eval",
      "   @ .\\boot.jl:373 [inlined]",
      " [3] include_string(mapexpr::typeof(REPL.softscope), mod::Module, code::String, filename::String)",
      "   @ Base .\\loading.jl:1196"
     ]
    }
   ],
   "source": [
    "sp_random = rand(Truncated(Normal(.077, .19), -.47, .46), 10)\n",
    "#typeof(x)\n",
    "x\n",
    "\n",
    "#CairoMakie.activate!()\n",
    "#fig = scatterlines(x)\n",
    "for i in sp_random\n",
    "   a = (round(i * 10000) + 10000)\n",
    "    #s = Int64[]\n",
    "    push!(a,2)\n",
    "    println(a)\n",
    "    #push!([10000],i)\n",
    "    #push!([1, 2, 3], i)\n",
    "end\n"
   ]
  },
  {
   "cell_type": "code",
   "execution_count": 313,
   "id": "1e9ca3a3",
   "metadata": {},
   "outputs": [
    {
     "data": {
      "text/plain": [
       "61006.90945447216"
      ]
     },
     "execution_count": 313,
     "metadata": {},
     "output_type": "execute_result"
    }
   ],
   "source": [
    "arr1 = (rand(Truncated(Normal(.077, .19), -.47, .46), 20))\n",
    "arr2 = (rand(Truncated(Normal(.077, .19), -.47, .46), 20))\n",
    "arr3 = (rand(Truncated(Normal(.077, .19), -.47, .46), 20))\n",
    "arr4 = (rand(Truncated(Normal(.077, .19), -.47, .46), 20))\n",
    "arr5 = (rand(Truncated(Normal(.077, .19), -.47, .46), 20))\n",
    "\n",
    "(sum(arr2) * 19000) + 19000\n",
    "#sum(arr1)\n",
    "#sum(arr3)"
   ]
  },
  {
   "cell_type": "code",
   "execution_count": 300,
   "id": "27f28546",
   "metadata": {},
   "outputs": [
    {
     "name": "stdout",
     "output_type": "stream",
     "text": [
      "0.002280664943690544\n",
      "0.111094535976282\n",
      "0.03217765767604412\n",
      "0.2882936061391961\n",
      "-0.004757771528597771\n"
     ]
    }
   ],
   "source": [
    "function test_returns()\n",
    "    sp_random = rand(Truncated(Normal(.077, .19), -.47, .46), 5)\n",
    "    \n",
    "    for i in sp_random\n",
    "        #a = (round(i * 10000) + 10000)\n",
    "        println(i)\n",
    "    end\n",
    "end\n",
    "test_returns()\n"
   ]
  },
  {
   "cell_type": "code",
   "execution_count": 278,
   "id": "0741819a",
   "metadata": {},
   "outputs": [
    {
     "name": "stdout",
     "output_type": "stream",
     "text": [
      "11502.0\n",
      "9522.0\n",
      "10482.0\n",
      "9923.0\n",
      "9572.0\n",
      "10601.0\n",
      "12886.0\n",
      "11111.0\n",
      "9570.0\n",
      "12787.0\n"
     ]
    }
   ],
   "source": [
    "function test_this()\n",
    "    sp_random = rand(Truncated(Normal(.077, .19), -.47, .46), 10)\n",
    "    \n",
    "    for i in sp_random\n",
    "        a = (round(i * 10000) + 10000)\n",
    "        println(a)\n",
    "    end\n",
    "end\n",
    "test_this()\n"
   ]
  },
  {
   "cell_type": "code",
   "execution_count": 277,
   "id": "4055b269",
   "metadata": {},
   "outputs": [
    {
     "name": "stdout",
     "output_type": "stream",
     "text": [
      "0.17498575031570685\n",
      "-0.23118488717789565\n",
      "-0.13125562602742996\n",
      "-0.12803911093572\n",
      "0.2648926783361252\n"
     ]
    },
    {
     "data": {
      "text/plain": [
       "Nothing"
      ]
     },
     "execution_count": 277,
     "metadata": {},
     "output_type": "execute_result"
    }
   ],
   "source": [
    "a = test_returns()\n",
    "#a(sum)\n",
    "typeof(a)"
   ]
  },
  {
   "cell_type": "code",
   "execution_count": 243,
   "id": "1a0505b6",
   "metadata": {},
   "outputs": [
    {
     "name": "stdout",
     "output_type": "stream",
     "text": [
      "11200.0\n",
      "11392.0\n",
      "12381.0\n",
      "8561.0\n",
      "12626.0\n",
      "9989.0\n",
      "13550.0\n",
      "11396.0\n",
      "12258.0\n",
      "12130.0\n"
     ]
    }
   ],
   "source": [
    "function test_this()\n",
    "    sp_random = rand(Truncated(Normal(.077, .19), -.47, .46), 10)\n",
    "    \n",
    "    for i in sp_random\n",
    "        a = (round(i * 10000) + 10000)\n",
    "        println(a)\n",
    "    end\n",
    "    \n",
    "    \n",
    "    \n",
    "    \n",
    "    \n",
    "    sp_random = rand(Truncated(Normal(.077, .19), -.47, .46), 10)\n",
    "#typeof(x)\n",
    "x\n",
    "\n",
    "#CairoMakie.activate!()\n",
    "#fig = scatterlines(x)\n",
    "for i in sp_random\n",
    "   a = (round(i * 10000) + 10000)\n",
    "    println(a)\n",
    "end"
   ]
  },
  {
   "cell_type": "code",
   "execution_count": 229,
   "id": "18f5d9f6",
   "metadata": {},
   "outputs": [
    {
     "data": {
      "text/plain": [
       "10-element Vector{Float64}:\n",
       " -0.029001385227191534\n",
       "  0.17282465777586628\n",
       " -0.2769027584902051\n",
       "  0.33975122067115643\n",
       "  0.01753920351184731\n",
       " -0.2548532451816718\n",
       "  0.26871988486320425\n",
       "  0.23785007254928214\n",
       " -0.17783004584667716\n",
       "  0.27227380330742884"
      ]
     },
     "execution_count": 229,
     "metadata": {},
     "output_type": "execute_result"
    }
   ],
   "source": [
    "sp_random = rand(Truncated(Normal(.077, .19), -.47, .46), 10)\n",
    "#typeof(x)"
   ]
  },
  {
   "cell_type": "code",
   "execution_count": 155,
   "id": "b7b863bd",
   "metadata": {},
   "outputs": [
    {
     "data": {
      "text/plain": [
       "1-element Vector{Int64}:\n",
       " 0"
      ]
     },
     "execution_count": 155,
     "metadata": {},
     "output_type": "execute_result"
    }
   ],
   "source": [
    "results = []\n",
    "Any[]\n",
    "\n",
    "x = [0]"
   ]
  },
  {
   "cell_type": "code",
   "execution_count": 234,
   "id": "cd912628",
   "metadata": {},
   "outputs": [
    {
     "data": {
      "text/plain": [
       "Any[]"
      ]
     },
     "execution_count": 234,
     "metadata": {},
     "output_type": "execute_result"
    }
   ],
   "source": [
    "results = [0]\n",
    "Any[]\n",
    "\n",
    "#\n",
    "#x = [1]\n",
    "\n",
    "\n"
   ]
  },
  {
   "cell_type": "code",
   "execution_count": 241,
   "id": "1463b2cb",
   "metadata": {},
   "outputs": [
    {
     "name": "stdout",
     "output_type": "stream",
     "text": [
      "Any[12150.0]\n",
      "Any[12150.0, 7756.0]\n",
      "Any[12150.0, 7756.0, 10223.0]\n",
      "Any[12150.0, 7756.0, 10223.0, 8959.0]\n",
      "Any[12150.0, 7756.0, 10223.0, 8959.0, 11596.0]\n",
      "Any[12150.0, 7756.0, 10223.0, 8959.0, 11596.0, 8032.0]\n",
      "Any[12150.0, 7756.0, 10223.0, 8959.0, 11596.0, 8032.0, 10877.0]\n",
      "Any[12150.0, 7756.0, 10223.0, 8959.0, 11596.0, 8032.0, 10877.0, 12114.0]\n",
      "Any[12150.0, 7756.0, 10223.0, 8959.0, 11596.0, 8032.0, 10877.0, 12114.0, 13035.0]\n",
      "Any[12150.0, 7756.0, 10223.0, 8959.0, 11596.0, 8032.0, 10877.0, 12114.0, 13035.0, 9992.0]\n"
     ]
    }
   ],
   "source": [
    "results = []\n",
    "\n",
    "\n",
    "for i in sp_random\n",
    "     #x = ((i * 10000) + 10000))\n",
    "    a = (round(i * 10000) + 10000)\n",
    "     #x[1] = i\n",
    "    println(push!(results, a)) # Pushing the *same* vector every time\n",
    "    \n",
    "end\n"
   ]
  },
  {
   "cell_type": "code",
   "execution_count": 236,
   "id": "54a7dc0d",
   "metadata": {},
   "outputs": [
    {
     "data": {
      "text/plain": [
       "3-element Vector{Any}:\n",
       " [3]\n",
       " [3]\n",
       " [3]"
      ]
     },
     "execution_count": 236,
     "metadata": {},
     "output_type": "execute_result"
    }
   ],
   "source": [
    "results = []\n",
    "Any[]\n",
    "\n",
    "x = [0]\n",
    "\n",
    "\n",
    "for i in 1:3\n",
    "         x[1] = i\n",
    "         push!(results, x)  # Pushing the *same* vector every time\n",
    "       end\n",
    "\n",
    "results\n"
   ]
  },
  {
   "cell_type": "code",
   "execution_count": 217,
   "id": "25bc0ddf",
   "metadata": {},
   "outputs": [
    {
     "data": {
      "text/plain": [
       "Any[]"
      ]
     },
     "execution_count": 217,
     "metadata": {},
     "output_type": "execute_result"
    }
   ],
   "source": [
    "results = []\n",
    "Any[]\n",
    "#a[1] = 1"
   ]
  },
  {
   "cell_type": "code",
   "execution_count": 226,
   "id": "21901e29",
   "metadata": {},
   "outputs": [
    {
     "ename": "LoadError",
     "evalue": "syntax: \"for\" at In[226]:1 expected \"end\", got \")\"",
     "output_type": "error",
     "traceback": [
      "syntax: \"for\" at In[226]:1 expected \"end\", got \")\"",
      "",
      "Stacktrace:",
      " [1] top-level scope",
      "   @ In[226]:3",
      " [2] eval",
      "   @ .\\boot.jl:373 [inlined]",
      " [3] include_string(mapexpr::typeof(REPL.softscope), mod::Module, code::String, filename::String)",
      "   @ Base .\\loading.jl:1196"
     ]
    }
   ],
   "source": [
    "for i in sp_random\n",
    "    x[] = i\n",
    "    a = (i * 10000) + 10000))\n",
    "    println(push!(results, copy(x)\n",
    "end"
   ]
  },
  {
   "cell_type": "code",
   "execution_count": 168,
   "id": "c61c225c",
   "metadata": {},
   "outputs": [
    {
     "ename": "LoadError",
     "evalue": "UndefVarError: int64 not defined",
     "output_type": "error",
     "traceback": [
      "UndefVarError: int64 not defined",
      "",
      "Stacktrace:",
      " [1] top-level scope",
      "   @ In[168]:3",
      " [2] eval",
      "   @ .\\boot.jl:373 [inlined]",
      " [3] include_string(mapexpr::typeof(REPL.softscope), mod::Module, code::String, filename::String)",
      "   @ Base .\\loading.jl:1196"
     ]
    }
   ],
   "source": [
    "#(round(i * 10000) + 10000)\n",
    "\n",
    "s = int64[]\n",
    "push!([s]1,2)\n",
    "\n"
   ]
  },
  {
   "cell_type": "code",
   "execution_count": 137,
   "id": "088ada03",
   "metadata": {},
   "outputs": [
    {
     "ename": "LoadError",
     "evalue": "syntax: missing comma or ) in argument list",
     "output_type": "error",
     "traceback": [
      "syntax: missing comma or ) in argument list",
      "",
      "Stacktrace:",
      " [1] top-level scope",
      "   @ In[137]:5",
      " [2] eval",
      "   @ .\\boot.jl:373 [inlined]",
      " [3] include_string(mapexpr::typeof(REPL.softscope), mod::Module, code::String, filename::String)",
      "   @ Base .\\loading.jl:1196"
     ]
    }
   ],
   "source": [
    "for i in sp_random\n",
    "    println((push!([10000],i)\n",
    "    #push!([10000],i)\n",
    "    \n",
    "end"
   ]
  },
  {
   "cell_type": "code",
   "execution_count": 123,
   "id": "f347618f",
   "metadata": {},
   "outputs": [
    {
     "data": {
      "text/plain": [
       "6-element Vector{Int64}:\n",
       " 1\n",
       " 2\n",
       " 3\n",
       " 4\n",
       " 5\n",
       " 6"
      ]
     },
     "execution_count": 123,
     "metadata": {},
     "output_type": "execute_result"
    }
   ],
   "source": [
    "push!([1, 2, 3], 4, 5, 6)"
   ]
  },
  {
   "cell_type": "code",
   "execution_count": null,
   "id": "931b6c7d",
   "metadata": {},
   "outputs": [],
   "source": [
    "x = rand(Truncated(Normal(0, 1), 0, 1), 100)\n",
    "\n",
    "using Distributions\n",
    "mu = 0    #The mean of the truncated Normal\n",
    "sigma = 1 #The standard deviation of the truncated Normal\n",
    "lb = 0    #The truncation lower bound\n",
    "ub = 1    #The truncation upper bound\n",
    "d = Truncated(Normal(mu, sigma), lb, ub)  #Construct the distribution type\n",
    "x = rand(d, 100) #Simulate 100 obs from the truncated Normal"
   ]
  },
  {
   "cell_type": "code",
   "execution_count": 337,
   "id": "e95f5154",
   "metadata": {},
   "outputs": [
    {
     "data": {
      "text/html": [
       "<div class=\"data-frame\"><p>2 rows × 7 columns</p><table class=\"data-frame\"><thead><tr><th></th><th>variable</th><th>min</th><th>max</th><th>mean</th><th>std</th><th>q25</th><th>q75</th></tr><tr><th></th><th title=\"Symbol\">Symbol</th><th title=\"Real\">Real</th><th title=\"Real\">Real</th><th title=\"Float64\">Float64</th><th title=\"Float64\">Float64</th><th title=\"Float64\">Float64</th><th title=\"Float64\">Float64</th></tr></thead><tbody><tr><th>1</th><td>year</td><td>1982</td><td>2021</td><td>2001.5</td><td>11.6905</td><td>1991.75</td><td>2011.25</td></tr><tr><th>2</th><td>return</td><td>-0.7106</td><td>2.119</td><td>0.364123</td><td>0.673719</td><td>-0.081975</td><td>0.5999</td></tr></tbody></table></div>"
      ],
      "text/latex": [
       "\\begin{tabular}{r|ccccccc}\n",
       "\t& variable & min & max & mean & std & q25 & q75\\\\\n",
       "\t\\hline\n",
       "\t& Symbol & Real & Real & Float64 & Float64 & Float64 & Float64\\\\\n",
       "\t\\hline\n",
       "\t1 & year & 1982 & 2021 & 2001.5 & 11.6905 & 1991.75 & 2011.25 \\\\\n",
       "\t2 & return & -0.7106 & 2.119 & 0.364123 & 0.673719 & -0.081975 & 0.5999 \\\\\n",
       "\\end{tabular}\n"
      ],
      "text/plain": [
       "\u001b[1m2×7 DataFrame\u001b[0m\n",
       "\u001b[1m Row \u001b[0m│\u001b[1m variable \u001b[0m\u001b[1m min       \u001b[0m\u001b[1m max      \u001b[0m\u001b[1m mean        \u001b[0m\u001b[1m std       \u001b[0m\u001b[1m q25         \u001b[0m\u001b[1m q75\u001b[0m ⋯\n",
       "\u001b[1m     \u001b[0m│\u001b[90m Symbol   \u001b[0m\u001b[90m Real      \u001b[0m\u001b[90m Real     \u001b[0m\u001b[90m Float64     \u001b[0m\u001b[90m Float64   \u001b[0m\u001b[90m Float64     \u001b[0m\u001b[90m Flo\u001b[0m ⋯\n",
       "─────┼──────────────────────────────────────────────────────────────────────────\n",
       "   1 │ year      1982       2021      2001.5       11.6905    1991.75      201 ⋯\n",
       "   2 │ return      -0.7106     2.119     0.364123   0.673719    -0.081975\n",
       "\u001b[36m                                                                1 column omitted\u001b[0m"
      ]
     },
     "execution_count": 337,
     "metadata": {},
     "output_type": "execute_result"
    }
   ],
   "source": [
    "df1 = CSV.read(\"aapl.csv\", DataFrame)\n",
    "#describe(df)\n",
    "\n",
    "describe(df1, :min, :max, :mean, :std, :q25, :q75)"
   ]
  },
  {
   "cell_type": "code",
   "execution_count": 394,
   "id": "a9b45759",
   "metadata": {},
   "outputs": [
    {
     "data": {
      "text/plain": [
       "10-element Vector{Float64}:\n",
       " -0.1479845025107852\n",
       " -0.6370373014594992\n",
       " -0.0610722654496319\n",
       " -0.5313002926690513\n",
       "  1.285776480575525\n",
       " -0.4681272995070787\n",
       " -0.2969660707767058\n",
       "  0.18617760053353968\n",
       "  0.25864452085236955\n",
       "  0.5808250921315841"
      ]
     },
     "execution_count": 394,
     "metadata": {},
     "output_type": "execute_result"
    }
   ],
   "source": [
    "aapl1 = (rand(Truncated(Normal(.20, .67), -.71, 2.1), 10))\n",
    "#aapl1(sum)\n",
    "\n",
    "#(sum(aapl1) * 19000) + 19000\n"
   ]
  },
  {
   "cell_type": "code",
   "execution_count": 396,
   "id": "1389ac81",
   "metadata": {},
   "outputs": [
    {
     "name": "stdout",
     "output_type": "stream",
     "text": [
      "37489.0\n",
      "9910.0\n",
      "9227.0\n",
      "20527.0\n",
      "17053.0\n",
      "37287.0\n",
      "30741.0\n",
      "15450.0\n",
      "15451.0\n",
      "19910.0\n",
      "23893.0\n",
      "15674.0\n",
      "33477.0\n",
      "29601.0\n",
      "29647.0\n",
      "13682.0\n",
      "29316.0\n",
      "39722.0\n",
      "13887.0\n",
      "29666.0\n"
     ]
    }
   ],
   "source": [
    "aapl1 = (rand(Truncated(Normal(.22, .67), -.71, 2.1), 20))\n",
    "\n",
    "for i in aapl1\n",
    "    println(round(sum(i) * 19000) + 19000)\n",
    "end"
   ]
  },
  {
   "cell_type": "code",
   "execution_count": 368,
   "id": "5ee3d9e1",
   "metadata": {},
   "outputs": [
    {
     "data": {
      "text/plain": [
       "MersenneTwister(1234)"
      ]
     },
     "execution_count": 368,
     "metadata": {},
     "output_type": "execute_result"
    }
   ],
   "source": [
    "using Random\n",
    "rng = MersenneTwister(1234)\n",
    "rng"
   ]
  },
  {
   "cell_type": "code",
   "execution_count": 352,
   "id": "eb6d1ecf",
   "metadata": {},
   "outputs": [
    {
     "data": {
      "text/plain": [
       "10×5 Matrix{Float64}:\n",
       " 0.39462   0.0572878  0.642827  0.612714   0.148254\n",
       " 0.760677  0.438583   0.274274  0.771358   0.697875\n",
       " 0.853312  0.468173   0.435766  0.298513   0.864281\n",
       " 0.387259  0.814012   0.783153  0.312929   0.848737\n",
       " 0.258535  0.764672   0.160838  0.0577928  0.547224\n",
       " 0.848076  0.0699209  0.506027  0.64166    0.210205\n",
       " 0.346645  0.698535   0.106512  0.615304   0.109044\n",
       " 0.895933  0.570032   0.882481  0.181436   0.281746\n",
       " 0.964647  0.872666   0.663301  0.45894    0.791548\n",
       " 0.999275  0.233475   0.13658   0.0842855  0.252839"
      ]
     },
     "execution_count": 352,
     "metadata": {},
     "output_type": "execute_result"
    }
   ],
   "source": [
    "rand(Int, 10)\n",
    "using Random\n",
    "#rng = MersenneTwister(1234);\n",
    "#rng\n",
    "rand(MersenneTwister(1), Dict(1=>2, 3=>4))\n",
    "#rand((2, 3))\n",
    "rand(10,5)"
   ]
  },
  {
   "cell_type": "code",
   "execution_count": 47,
   "id": "4650f89a",
   "metadata": {},
   "outputs": [
    {
     "ename": "LoadError",
     "evalue": "syntax: misplaced assignment statement in \"[rng = GLOBAL_RNG]\" around In[47]:1",
     "output_type": "error",
     "traceback": [
      "syntax: misplaced assignment statement in \"[rng = GLOBAL_RNG]\" around In[47]:1",
      "",
      "Stacktrace:",
      " [1] top-level scope",
      "   @ In[47]:1",
      " [2] eval",
      "   @ .\\boot.jl:373 [inlined]",
      " [3] include_string(mapexpr::typeof(REPL.softscope), mod::Module, code::String, filename::String)",
      "   @ Base .\\loading.jl:1196"
     ]
    }
   ],
   "source": [
    "rand!([rng=GLOBAL_RNG], A, [S=eltype(A)])"
   ]
  },
  {
   "cell_type": "code",
   "execution_count": 36,
   "id": "025b0c2a",
   "metadata": {},
   "outputs": [
    {
     "ename": "LoadError",
     "evalue": "UndefVarError: a not defined",
     "output_type": "error",
     "traceback": [
      "UndefVarError: a not defined",
      "",
      "Stacktrace:",
      " [1] top-level scope",
      "   @ .\\In[36]:1",
      " [2] eval",
      "   @ .\\boot.jl:373 [inlined]",
      " [3] include_string(mapexpr::typeof(REPL.softscope), mod::Module, code::String, filename::String)",
      "   @ Base .\\loading.jl:1196"
     ]
    }
   ],
   "source": [
    "for i in a\n",
    "    println(i * 10)\n",
    "    \n",
    "end"
   ]
  },
  {
   "cell_type": "code",
   "execution_count": 37,
   "id": "738a0a39",
   "metadata": {},
   "outputs": [
    {
     "data": {
      "text/plain": [
       "98536.05541619398"
      ]
     },
     "execution_count": 37,
     "metadata": {},
     "output_type": "execute_result"
    }
   ],
   "source": [
    "#Example 1 from wikipedia as a first sanity check\n",
    "#Suppose a principal amount of $1,500 is deposited in a bank paying an annual interest rate of 4.3%, compounded quarterly.\n",
    "#Then the balance after 6 years is found by using the formula above, with P = 1500, r = 0.043 (4.3%), n = 4, and t = 6:\n",
    "deterministic_predict(P, r , n, t) = P*(1 + r/n)^(n*t)\n",
    "deterministic_predict(20000.0 , 0.08, 12, 20)"
   ]
  },
  {
   "cell_type": "code",
   "execution_count": 2,
   "id": "5eb863a6",
   "metadata": {},
   "outputs": [
    {
     "data": {
      "text/plain": [
       "sigma (generic function with 1 method)"
      ]
     },
     "execution_count": 2,
     "metadata": {},
     "output_type": "execute_result"
    }
   ],
   "source": [
    "age=40 #                                 Age at start of projections\n",
    "frequency = 252 #                        Assume 252 trading days per year\n",
    "days = 1/frequency #                     Convenient way to express days\n",
    "yrs_to_days(x)=x*frequency #             Simple function to convert years to days\n",
    "sigma(rp) = df[rp,:].StdDev/100 #        Simple function to get a risk profile's standard deviation"
   ]
  },
  {
   "cell_type": "code",
   "execution_count": null,
   "id": "21caf13b",
   "metadata": {},
   "outputs": [],
   "source": []
  },
  {
   "cell_type": "code",
   "execution_count": 4,
   "id": "c65c18ae",
   "metadata": {},
   "outputs": [
    {
     "data": {
      "text/plain": [
       "stocks (generic function with 1 method)"
      ]
     },
     "execution_count": 4,
     "metadata": {},
     "output_type": "execute_result"
    }
   ],
   "source": [
    "function stocks()\n",
    "    returns = .1\n",
    "    sd = .28\n",
    "    dist = Normal(returns, sd)\n",
    "    x = returns - 3sd : 0.01 : μ + 3σ\n",
    "end"
   ]
  },
  {
   "cell_type": "code",
   "execution_count": null,
   "id": "e0c02678",
   "metadata": {},
   "outputs": [],
   "source": [
    "-35.16%\n",
    "1982\n",
    "22.125\n",
    "29.875\n",
    "7.75\n",
    "35.03%\n",
    "1983\n",
    "29.875\n",
    "24.375\n",
    "-5.50\n",
    "-18.41%\n",
    "1984\n",
    "24.375\n",
    "29.125\n",
    "4.75\n",
    "19.49%\n",
    "1985\n",
    "29.125\n",
    "22.00\n",
    "-7.125\n",
    "-24.46%\n",
    "1986\n",
    "22.00\n",
    "40.50\n",
    "18.50\n",
    "84.09%\n",
    "1987\n",
    "40.50\n",
    "84.00*\n",
    "43.50\n",
    "107.41%\n",
    "1988\n",
    "42.00\n",
    "40.25\n",
    "-1.75\n",
    "-4.17%\n",
    "1989\n",
    "40.25\n",
    "35.25\n",
    "-5.00\n",
    "-12.42%\n",
    "1990\n",
    "35.25\n",
    "43.00\n",
    "7.75\n",
    "21.99%\n",
    "1991\n",
    "43.00\n",
    "56.375\n",
    "13.375\n",
    "31.10%\n",
    "1992\n",
    "56.375\n",
    "59.75\n",
    "3.375\n",
    "5.99%\n",
    "1993\n",
    "59.75\n",
    "29.25\n",
    "-30.50\n",
    "-51.05%\n",
    "1994\n",
    "29.25\n",
    "39.00\n",
    "9.75\n",
    "33.33%\n",
    "1995\n",
    "39.00\n",
    "31.875\n",
    "-7.125\n",
    "-18.27%\n",
    "1996\n",
    "31.875\n",
    "20.875\n",
    "-11.00\n",
    "-34.51%\n",
    "1997\n",
    "20.875\n",
    "13.125\n",
    "-7.75\n",
    "-37.13%\n",
    "1998\n",
    "13.125\n",
    "40.9375\n",
    "27.8125\n",
    "211.90%\n",
    "1999\n",
    "40.9375\n",
    "102.8125\n",
    "61.875\n",
    "151.15%\n",
    "2000\n",
    "102.8125\n",
    "29.75*\n",
    "-73.0625\n",
    "-71.06%\n",
    "2001\n",
    "14.875\n",
    "21.90\n",
    "7.025\n",
    "47.23%\n",
    "2002\n",
    "21.90\n",
    "14.33\n",
    "-7.57\n",
    "-34.57%\n",
    "2003\n",
    "14.33\n",
    "21.37\n",
    "7.04\n",
    "49.13%\n",
    "2004\n",
    "21.37\n",
    "64.40\n",
    "43.03\n",
    "201.36%\n",
    "2005\n",
    "64.40\n",
    "143.78*\n",
    "79.38\n",
    "123.26%\n",
    "2006\n",
    "71.89\n",
    "84.84\n",
    "12.95\n",
    "18.01%\n",
    "2007\n",
    "84.84\n",
    "198.08\n",
    "113.24\n",
    "133.47%\n",
    "2008\n",
    "198.08\n",
    "85.35\n",
    "-112.73\n",
    "-56.91%\n",
    "2009\n",
    "85.35\n",
    "210.732\n",
    "125.382\n",
    "146.90%\n",
    "2010\n",
    "210.732\n",
    "322.56\n",
    "111.828\n",
    "53.07%\n",
    "2011\n",
    "322.56\n",
    "405.00\n",
    "82.44\n",
    "25.56%\n",
    "2012\n",
    "405.00\n",
    "532.17\n",
    "127.17\n",
    "31.40%\n",
    "2013\n",
    "532.17\n",
    "561.02\n",
    "28.85\n",
    "5.42%\n",
    "2014\n",
    "561.02\n",
    "772.66*\n",
    "211.64\n",
    "37.72%\n",
    "2015\n",
    "110.38\n",
    "105.26\n",
    "-5.12\n",
    "-4.64%\n",
    "2016\n",
    "105.26\n",
    "115.82\n",
    "10.56\n",
    "10.03%\n",
    "2017\n",
    "115.82\n",
    "169.23\n",
    "53.41\n",
    "46.11%\n",
    "2018\n",
    "169.23\n",
    "157.74\n",
    "-11.49\n",
    "-6.79%\n",
    "2019\n",
    "157.74\n",
    "293.65\n",
    "135.91\n",
    "86.16%\n",
    "2020\n",
    "293.65\n",
    "530.76*\n",
    "237.11\n",
    "80.75%\n",
    "2021\n",
    "132.69\n",
    "177.57\n",
    "44.88\n",
    "33.82%"
   ]
  },
  {
   "cell_type": "code",
   "execution_count": null,
   "id": "7ec26ee6",
   "metadata": {},
   "outputs": [],
   "source": []
  },
  {
   "cell_type": "code",
   "execution_count": null,
   "id": "e856b440",
   "metadata": {},
   "outputs": [],
   "source": []
  },
  {
   "cell_type": "code",
   "execution_count": null,
   "id": "c87cf218",
   "metadata": {},
   "outputs": [],
   "source": []
  }
 ],
 "metadata": {
  "kernelspec": {
   "display_name": "Julia 1.7.2",
   "language": "julia",
   "name": "julia-1.7"
  },
  "language_info": {
   "file_extension": ".jl",
   "mimetype": "application/julia",
   "name": "julia",
   "version": "1.7.2"
  }
 },
 "nbformat": 4,
 "nbformat_minor": 5
}
